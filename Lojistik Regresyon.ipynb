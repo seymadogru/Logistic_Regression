{
 "cells": [
  {
   "cell_type": "code",
   "execution_count": 1,
   "id": "e03cc0f5",
   "metadata": {},
   "outputs": [
    {
     "data": {
      "text/html": [
       "<div>\n",
       "<style scoped>\n",
       "    .dataframe tbody tr th:only-of-type {\n",
       "        vertical-align: middle;\n",
       "    }\n",
       "\n",
       "    .dataframe tbody tr th {\n",
       "        vertical-align: top;\n",
       "    }\n",
       "\n",
       "    .dataframe thead th {\n",
       "        text-align: right;\n",
       "    }\n",
       "</style>\n",
       "<table border=\"1\" class=\"dataframe\">\n",
       "  <thead>\n",
       "    <tr style=\"text-align: right;\">\n",
       "      <th></th>\n",
       "      <th>PassengerId</th>\n",
       "      <th>Survived</th>\n",
       "      <th>Pclass</th>\n",
       "      <th>Name</th>\n",
       "      <th>Sex</th>\n",
       "      <th>Age</th>\n",
       "      <th>SibSp</th>\n",
       "      <th>Parch</th>\n",
       "      <th>Ticket</th>\n",
       "      <th>Fare</th>\n",
       "      <th>Cabin</th>\n",
       "      <th>Embarked</th>\n",
       "    </tr>\n",
       "  </thead>\n",
       "  <tbody>\n",
       "    <tr>\n",
       "      <th>0</th>\n",
       "      <td>1</td>\n",
       "      <td>0</td>\n",
       "      <td>3</td>\n",
       "      <td>Braund, Mr. Owen Harris</td>\n",
       "      <td>male</td>\n",
       "      <td>22.0</td>\n",
       "      <td>1</td>\n",
       "      <td>0</td>\n",
       "      <td>A/5 21171</td>\n",
       "      <td>7.2500</td>\n",
       "      <td>NaN</td>\n",
       "      <td>S</td>\n",
       "    </tr>\n",
       "    <tr>\n",
       "      <th>1</th>\n",
       "      <td>2</td>\n",
       "      <td>1</td>\n",
       "      <td>1</td>\n",
       "      <td>Cumings, Mrs. John Bradley (Florence Briggs Th...</td>\n",
       "      <td>female</td>\n",
       "      <td>38.0</td>\n",
       "      <td>1</td>\n",
       "      <td>0</td>\n",
       "      <td>PC 17599</td>\n",
       "      <td>71.2833</td>\n",
       "      <td>C85</td>\n",
       "      <td>C</td>\n",
       "    </tr>\n",
       "    <tr>\n",
       "      <th>2</th>\n",
       "      <td>3</td>\n",
       "      <td>1</td>\n",
       "      <td>3</td>\n",
       "      <td>Heikkinen, Miss. Laina</td>\n",
       "      <td>female</td>\n",
       "      <td>26.0</td>\n",
       "      <td>0</td>\n",
       "      <td>0</td>\n",
       "      <td>STON/O2. 3101282</td>\n",
       "      <td>7.9250</td>\n",
       "      <td>NaN</td>\n",
       "      <td>S</td>\n",
       "    </tr>\n",
       "    <tr>\n",
       "      <th>3</th>\n",
       "      <td>4</td>\n",
       "      <td>1</td>\n",
       "      <td>1</td>\n",
       "      <td>Futrelle, Mrs. Jacques Heath (Lily May Peel)</td>\n",
       "      <td>female</td>\n",
       "      <td>35.0</td>\n",
       "      <td>1</td>\n",
       "      <td>0</td>\n",
       "      <td>113803</td>\n",
       "      <td>53.1000</td>\n",
       "      <td>C123</td>\n",
       "      <td>S</td>\n",
       "    </tr>\n",
       "    <tr>\n",
       "      <th>4</th>\n",
       "      <td>5</td>\n",
       "      <td>0</td>\n",
       "      <td>3</td>\n",
       "      <td>Allen, Mr. William Henry</td>\n",
       "      <td>male</td>\n",
       "      <td>35.0</td>\n",
       "      <td>0</td>\n",
       "      <td>0</td>\n",
       "      <td>373450</td>\n",
       "      <td>8.0500</td>\n",
       "      <td>NaN</td>\n",
       "      <td>S</td>\n",
       "    </tr>\n",
       "  </tbody>\n",
       "</table>\n",
       "</div>"
      ],
      "text/plain": [
       "   PassengerId  Survived  Pclass  \\\n",
       "0            1         0       3   \n",
       "1            2         1       1   \n",
       "2            3         1       3   \n",
       "3            4         1       1   \n",
       "4            5         0       3   \n",
       "\n",
       "                                                Name     Sex   Age  SibSp  \\\n",
       "0                            Braund, Mr. Owen Harris    male  22.0      1   \n",
       "1  Cumings, Mrs. John Bradley (Florence Briggs Th...  female  38.0      1   \n",
       "2                             Heikkinen, Miss. Laina  female  26.0      0   \n",
       "3       Futrelle, Mrs. Jacques Heath (Lily May Peel)  female  35.0      1   \n",
       "4                           Allen, Mr. William Henry    male  35.0      0   \n",
       "\n",
       "   Parch            Ticket     Fare Cabin Embarked  \n",
       "0      0         A/5 21171   7.2500   NaN        S  \n",
       "1      0          PC 17599  71.2833   C85        C  \n",
       "2      0  STON/O2. 3101282   7.9250   NaN        S  \n",
       "3      0            113803  53.1000  C123        S  \n",
       "4      0            373450   8.0500   NaN        S  "
      ]
     },
     "execution_count": 1,
     "metadata": {},
     "output_type": "execute_result"
    }
   ],
   "source": [
    "import pandas as pd\n",
    "import numpy as np\n",
    "from sklearn.linear_model import LogisticRegression\n",
    "from sklearn.model_selection import train_test_split\n",
    "import warnings\n",
    "warnings.filterwarnings(action=\"ignore\")\n",
    "\n",
    "titanic_df = pd.read_csv(\"titanic_train.csv\")\n",
    "titanic_df.head()"
   ]
  },
  {
   "cell_type": "code",
   "execution_count": 12,
   "id": "f8f84588",
   "metadata": {},
   "outputs": [],
   "source": [
    "titanic_df.dropna(inplace=True)\n",
    "titanic_df[\"Sex\"] = titanic_df.Sex.replace({'male':0,'female':1})\n",
    "Y = titanic_df['Survived']\n",
    "X = titanic_df[['Sex','Age','SibSp','Parch']]\n",
    "log_reg = LogisticRegression()\n",
    "X_train, X_test, y_train, y_test = train_test_split(X, Y, test_size = 0.2, random_state = 465)\n"
   ]
  },
  {
   "cell_type": "code",
   "execution_count": 13,
   "id": "ed43f9a1",
   "metadata": {},
   "outputs": [
    {
     "data": {
      "text/plain": [
       "LogisticRegression()"
      ]
     },
     "execution_count": 13,
     "metadata": {},
     "output_type": "execute_result"
    }
   ],
   "source": [
    "log_reg.fit(X_train, y_train)"
   ]
  },
  {
   "cell_type": "code",
   "execution_count": 16,
   "id": "84b21254",
   "metadata": {},
   "outputs": [
    {
     "name": "stdout",
     "output_type": "stream",
     "text": [
      "One-vs-rest\n",
      "--------------------\n",
      "Modelin eğitim verisindeki doğruluğu : 0.79\n",
      "Modelin test verisindeki doğruluğu   : 0.76\n"
     ]
    }
   ],
   "source": [
    "egitim_dogruluk = log_reg.score(X_train, y_train)\n",
    "test_dogruluk = log_reg.score(X_test, y_test)\n",
    "print('One-vs-rest', '-'*20, \n",
    "      'Modelin eğitim verisindeki doğruluğu : {:.2f}'.format(egitim_dogruluk), \n",
    "      'Modelin test verisindeki doğruluğu   : {:.2f}'.format(test_dogruluk), sep='\\n')"
   ]
  },
  {
   "cell_type": "code",
   "execution_count": 17,
   "id": "542a480c",
   "metadata": {},
   "outputs": [
    {
     "name": "stdout",
     "output_type": "stream",
     "text": [
      "Multinomial (Softmax)\n",
      "--------------------\n",
      "Modelin eğitim verisindeki doğruluğu : 0.79\n",
      "Modelin test verisindeki doğruluğu   : 0.68\n"
     ]
    }
   ],
   "source": [
    "log_reg_mnm = LogisticRegression(multi_class='multinomial', solver='lbfgs')\n",
    "log_reg_mnm.fit(X_train, y_train)\n",
    "egitim_dogruluk = log_reg_mnm.score(X_train, y_train)\n",
    "test_dogruluk = log_reg_mnm.score(X_test, y_test)\n",
    "print('Multinomial (Softmax)', '-'*20, \n",
    "      'Modelin eğitim verisindeki doğruluğu : {:.2f}'.format(egitim_dogruluk), \n",
    "      'Modelin test verisindeki doğruluğu   : {:.2f}'.format(test_dogruluk), sep='\\n')"
   ]
  },
  {
   "cell_type": "markdown",
   "id": "8d05f1ee",
   "metadata": {},
   "source": [
    "**Softmax ve one-vs-rest sonuçlarına baktığımızda eğitim doğrulukları aynı fakat softmax de test doğruluğu çok düşük. Yani one-vs-rest daha iyi sonuç verdi.**"
   ]
  },
  {
   "cell_type": "code",
   "execution_count": 19,
   "id": "e0cb8ebf",
   "metadata": {},
   "outputs": [
    {
     "name": "stdout",
     "output_type": "stream",
     "text": [
      "[0 1]\n"
     ]
    }
   ],
   "source": [
    "tahmin_değerleri = np.array([[0,35.0,0,0] , [1,38.0,1,0]])\n",
    "print(log_reg.predict(tahmin_değerleri))"
   ]
  },
  {
   "cell_type": "markdown",
   "id": "211d8011",
   "metadata": {},
   "source": [
    "**Özellik ekleyerek tekrar bakalım.**"
   ]
  },
  {
   "cell_type": "code",
   "execution_count": 21,
   "id": "11cea104",
   "metadata": {},
   "outputs": [
    {
     "data": {
      "text/plain": [
       "array(['C', 'S', 'Q'], dtype=object)"
      ]
     },
     "execution_count": 21,
     "metadata": {},
     "output_type": "execute_result"
    }
   ],
   "source": [
    "titanic_df.Embarked.unique()"
   ]
  },
  {
   "cell_type": "code",
   "execution_count": 22,
   "id": "4193710d",
   "metadata": {},
   "outputs": [],
   "source": [
    "titanic_df.dropna(inplace=True)\n",
    "titanic_df[\"Sex\"] = titanic_df.Sex.replace({'male':0,'female':1})\n",
    "titanic_df[\"Embarked\"] = titanic_df.Embarked.replace({'C':0,'S':1,'Q':2})\n",
    "Y = titanic_df['Survived']\n",
    "X = titanic_df[['Sex','Age','SibSp','Parch','Embarked','Fare']]\n",
    "log_reg = LogisticRegression()\n",
    "X_train, X_test, y_train, y_test = train_test_split(X, Y, test_size = 0.2, random_state = 465)"
   ]
  },
  {
   "cell_type": "code",
   "execution_count": 23,
   "id": "cf1f5ca5",
   "metadata": {},
   "outputs": [
    {
     "data": {
      "text/plain": [
       "LogisticRegression()"
      ]
     },
     "execution_count": 23,
     "metadata": {},
     "output_type": "execute_result"
    }
   ],
   "source": [
    "log_reg.fit(X_train, y_train)"
   ]
  },
  {
   "cell_type": "code",
   "execution_count": 24,
   "id": "6c0f1c28",
   "metadata": {},
   "outputs": [
    {
     "name": "stdout",
     "output_type": "stream",
     "text": [
      "One-vs-rest\n",
      "--------------------\n",
      "Modelin eğitim verisindeki doğruluğu : 0.78\n",
      "Modelin test verisindeki doğruluğu   : 0.70\n"
     ]
    }
   ],
   "source": [
    "egitim_dogruluk = log_reg.score(X_train, y_train)\n",
    "test_dogruluk = log_reg.score(X_test, y_test)\n",
    "print('One-vs-rest', '-'*20, \n",
    "      'Modelin eğitim verisindeki doğruluğu : {:.2f}'.format(egitim_dogruluk), \n",
    "      'Modelin test verisindeki doğruluğu   : {:.2f}'.format(test_dogruluk), sep='\\n')"
   ]
  },
  {
   "cell_type": "code",
   "execution_count": 25,
   "id": "36c22d4e",
   "metadata": {},
   "outputs": [
    {
     "name": "stdout",
     "output_type": "stream",
     "text": [
      "Multinomial (Softmax)\n",
      "--------------------\n",
      "Modelin eğitim verisindeki doğruluğu : 0.77\n",
      "Modelin test verisindeki doğruluğu   : 0.68\n"
     ]
    }
   ],
   "source": [
    "log_reg_mnm = LogisticRegression(multi_class='multinomial', solver='lbfgs')\n",
    "log_reg_mnm.fit(X_train, y_train)\n",
    "egitim_dogruluk = log_reg_mnm.score(X_train, y_train)\n",
    "test_dogruluk = log_reg_mnm.score(X_test, y_test)\n",
    "print('Multinomial (Softmax)', '-'*20, \n",
    "      'Modelin eğitim verisindeki doğruluğu : {:.2f}'.format(egitim_dogruluk), \n",
    "      'Modelin test verisindeki doğruluğu   : {:.2f}'.format(test_dogruluk), sep='\\n')"
   ]
  },
  {
   "cell_type": "markdown",
   "id": "726095f2",
   "metadata": {},
   "source": [
    "**Özellikler eklenince modelin performansının düştüğü gözlemlendi.** **Şimdi de özellik çıkartalım.**"
   ]
  },
  {
   "cell_type": "code",
   "execution_count": 38,
   "id": "0e78afa2",
   "metadata": {},
   "outputs": [],
   "source": [
    "titanic_df.dropna(inplace=True)\n",
    "titanic_df[\"Sex\"] = titanic_df.Sex.replace({'male':0,'female':1})\n",
    "Y = titanic_df['Survived']\n",
    "X = titanic_df[['Sex','Age','SibSp']]\n",
    "log_reg = LogisticRegression()\n",
    "X_train, X_test, y_train, y_test = train_test_split(X, Y, test_size = 0.2, random_state = 465)"
   ]
  },
  {
   "cell_type": "code",
   "execution_count": 39,
   "id": "e2d956e4",
   "metadata": {},
   "outputs": [
    {
     "data": {
      "text/plain": [
       "LogisticRegression()"
      ]
     },
     "execution_count": 39,
     "metadata": {},
     "output_type": "execute_result"
    }
   ],
   "source": [
    "log_reg.fit(X_train, y_train)"
   ]
  },
  {
   "cell_type": "code",
   "execution_count": 40,
   "id": "d6086153",
   "metadata": {},
   "outputs": [
    {
     "name": "stdout",
     "output_type": "stream",
     "text": [
      "One-vs-rest\n",
      "--------------------\n",
      "Modelin eğitim verisindeki doğruluğu : 0.79\n",
      "Modelin test verisindeki doğruluğu   : 0.73\n"
     ]
    }
   ],
   "source": [
    "egitim_dogruluk = log_reg.score(X_train, y_train)\n",
    "test_dogruluk = log_reg.score(X_test, y_test)\n",
    "print('One-vs-rest', '-'*20, \n",
    "      'Modelin eğitim verisindeki doğruluğu : {:.2f}'.format(egitim_dogruluk), \n",
    "      'Modelin test verisindeki doğruluğu   : {:.2f}'.format(test_dogruluk), sep='\\n')"
   ]
  },
  {
   "cell_type": "code",
   "execution_count": 36,
   "id": "c7787cab",
   "metadata": {},
   "outputs": [
    {
     "name": "stdout",
     "output_type": "stream",
     "text": [
      "Multinomial (Softmax)\n",
      "--------------------\n",
      "Modelin eğitim verisindeki doğruluğu : 0.79\n",
      "Modelin test verisindeki doğruluğu   : 0.73\n"
     ]
    }
   ],
   "source": [
    "log_reg_mnm = LogisticRegression(multi_class='multinomial', solver='lbfgs')\n",
    "log_reg_mnm.fit(X_train, y_train)\n",
    "egitim_dogruluk = log_reg_mnm.score(X_train, y_train)\n",
    "test_dogruluk = log_reg_mnm.score(X_test, y_test)\n",
    "print('Multinomial (Softmax)', '-'*20, \n",
    "      'Modelin eğitim verisindeki doğruluğu : {:.2f}'.format(egitim_dogruluk), \n",
    "      'Modelin test verisindeki doğruluğu   : {:.2f}'.format(test_dogruluk), sep='\\n')"
   ]
  },
  {
   "cell_type": "markdown",
   "id": "51384b7f",
   "metadata": {},
   "source": [
    "**İlk modelin hepsinden daha iyi olduğu gözlemlendi.**"
   ]
  },
  {
   "cell_type": "markdown",
   "id": "82497dee",
   "metadata": {},
   "source": [
    "-------------------------------------"
   ]
  },
  {
   "cell_type": "markdown",
   "id": "1709b5d3",
   "metadata": {},
   "source": [
    "## Lojistik Regresyon'un avantaj ve dezavantajlarını araştırın."
   ]
  },
  {
   "cell_type": "markdown",
   "id": "0b0e97fc",
   "metadata": {},
   "source": [
    "AVANTAJLARI\n",
    "1) Lojistik regresyon modeli yalnızca bir sınıflandırma modeli olarak hareket etmekle kalmaz, aynı zamanda olasılıklar da verir. Bu, yalnızca son sınıflandırmayı sağlayabilecekleri diğer modellere göre büyük bir avantajdır. \n",
    "\n",
    "2) Lojistik Regresyon, bir tahmin edicinin (katsayı boyutu) ne kadar alakalı olduğuna dair bir ölçü vermekle kalmaz, aynı zamanda onun ilişki yönünü de (pozitif veya negatif) verir. Lojistik regresyonun daha kolay uygulanması, yorumlanması ve eğitilmesinin çok verimli olduğunu görüyoruz.\n",
    "\n",
    "3) Lojistik Regresyon, veri kümesi doğrusal olarak ayrılabilir özelliklere sahip olduğunda çok verimli olduğunu kanıtlar.\n",
    "\n",
    "4) Yeterli eğitim örneklerine sahip düşük boyutlu bir veri setinde, lojistik regresyon aşırı uyuma daha az eğilimlidir."
   ]
  },
  {
   "cell_type": "markdown",
   "id": "be79c06e",
   "metadata": {},
   "source": [
    "DEZAVANTAJLARI\n",
    "\n",
    "1) Lojistik gerileme, tam ayrılıktan zarar görebilir. İki sınıfı mükemmel şekilde ayıran bir özellik varsa, lojistik regresyon modeli artık eğitilemez. Bunun nedeni, bu özelliğin ağırlığının yakınsamamasıdır. Bu gerçekten biraz talihsiz bir durum çünkü böyle bir özellik gerçekten çok kullanışlıdır.\n",
    "\n",
    "2) Lojistik regresyon aşırı uyuma daha az meyillidir, ancak yüksek boyutlu veri kümelerine aşırı sığabilir.\n",
    "\n",
    "3) karmaşık ilişkiyi lojistik regresyon kullanarak yakalamak zor . Sinir Ağları gibi daha güçlü ve karmaşık algoritmalar, bu algoritmadan kolayca daha iyi performans gösterebilir."
   ]
  },
  {
   "cell_type": "code",
   "execution_count": null,
   "id": "230c227f",
   "metadata": {},
   "outputs": [],
   "source": []
  },
  {
   "cell_type": "code",
   "execution_count": null,
   "id": "faa7eb03",
   "metadata": {},
   "outputs": [],
   "source": []
  }
 ],
 "metadata": {
  "kernelspec": {
   "display_name": "Python 3",
   "language": "python",
   "name": "python3"
  },
  "language_info": {
   "codemirror_mode": {
    "name": "ipython",
    "version": 3
   },
   "file_extension": ".py",
   "mimetype": "text/x-python",
   "name": "python",
   "nbconvert_exporter": "python",
   "pygments_lexer": "ipython3",
   "version": "3.8.8"
  }
 },
 "nbformat": 4,
 "nbformat_minor": 5
}
